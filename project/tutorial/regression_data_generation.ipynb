{
 "cells": [
  {
   "cell_type": "code",
   "execution_count": 1,
   "metadata": {},
   "outputs": [],
   "source": [
    "import numpy as np\n",
    "import pandas as pd\n",
    "from sklearn import *\n",
    "import matplotlib.pyplot as plt\n",
    "%matplotlib inline"
   ]
  },
  {
   "cell_type": "code",
   "execution_count": 2,
   "metadata": {},
   "outputs": [],
   "source": [
    "HEADER = ['key','x','y','alpha','beta','target']\n",
    "HEADER_DEFAULTS = [[0], [0.0], [0.0], ['NA'], ['NA'], [0.0]]\n",
    "TRAIN_DATA_FILE = 'data/train-data.csv'\n",
    "VALID_DATA_FILE = 'data/valid-data.csv'\n",
    "TEST_DATA_FILE = 'data/test-data.csv'"
   ]
  },
  {
   "cell_type": "code",
   "execution_count": 5,
   "metadata": {},
   "outputs": [
    {
     "data": {
      "text/html": [
       "<div>\n",
       "<style scoped>\n",
       "    .dataframe tbody tr th:only-of-type {\n",
       "        vertical-align: middle;\n",
       "    }\n",
       "\n",
       "    .dataframe tbody tr th {\n",
       "        vertical-align: top;\n",
       "    }\n",
       "\n",
       "    .dataframe thead th {\n",
       "        text-align: right;\n",
       "    }\n",
       "</style>\n",
       "<table border=\"1\" class=\"dataframe\">\n",
       "  <thead>\n",
       "    <tr style=\"text-align: right;\">\n",
       "      <th></th>\n",
       "      <th>key</th>\n",
       "      <th>x</th>\n",
       "      <th>y</th>\n",
       "      <th>alpha</th>\n",
       "      <th>beta</th>\n",
       "      <th>target</th>\n",
       "    </tr>\n",
       "  </thead>\n",
       "  <tbody>\n",
       "    <tr>\n",
       "      <th>0</th>\n",
       "      <td>17262</td>\n",
       "      <td>0.893902</td>\n",
       "      <td>0.040267</td>\n",
       "      <td>ax02</td>\n",
       "      <td>bx02</td>\n",
       "      <td>-12.314443</td>\n",
       "    </tr>\n",
       "    <tr>\n",
       "      <th>1</th>\n",
       "      <td>4554</td>\n",
       "      <td>0.148486</td>\n",
       "      <td>0.015758</td>\n",
       "      <td>ax01</td>\n",
       "      <td>bx01</td>\n",
       "      <td>3.269937</td>\n",
       "    </tr>\n",
       "    <tr>\n",
       "      <th>2</th>\n",
       "      <td>19003</td>\n",
       "      <td>0.156807</td>\n",
       "      <td>-0.953493</td>\n",
       "      <td>ax02</td>\n",
       "      <td>bx02</td>\n",
       "      <td>39.556516</td>\n",
       "    </tr>\n",
       "    <tr>\n",
       "      <th>3</th>\n",
       "      <td>15196</td>\n",
       "      <td>0.374318</td>\n",
       "      <td>0.306750</td>\n",
       "      <td>ax02</td>\n",
       "      <td>bx02</td>\n",
       "      <td>-1.011721</td>\n",
       "    </tr>\n",
       "    <tr>\n",
       "      <th>4</th>\n",
       "      <td>9502</td>\n",
       "      <td>0.827361</td>\n",
       "      <td>0.305439</td>\n",
       "      <td>ax02</td>\n",
       "      <td>bx01</td>\n",
       "      <td>6.051278</td>\n",
       "    </tr>\n",
       "  </tbody>\n",
       "</table>\n",
       "</div>"
      ],
      "text/plain": [
       "     key         x         y alpha  beta     target\n",
       "0  17262  0.893902  0.040267  ax02  bx02 -12.314443\n",
       "1   4554  0.148486  0.015758  ax01  bx01   3.269937\n",
       "2  19003  0.156807 -0.953493  ax02  bx02  39.556516\n",
       "3  15196  0.374318  0.306750  ax02  bx02  -1.011721\n",
       "4   9502  0.827361  0.305439  ax02  bx01   6.051278"
      ]
     },
     "execution_count": 5,
     "metadata": {},
     "output_type": "execute_result"
    }
   ],
   "source": [
    "train_df = pd.read_csv(TRAIN_DATA_FILE, names=HEADER, skiprows=0)\n",
    "valid_df = pd.read_csv(VALID_DATA_FILE, names=HEADER, skiprows=0)\n",
    "test_df = pd.read_csv(TEST_DATA_FILE, names=HEADER, skiprows=0)\n",
    "train_df.head()"
   ]
  },
  {
   "cell_type": "code",
   "execution_count": 6,
   "metadata": {},
   "outputs": [
    {
     "data": {
      "text/plain": [
       "(12000, 3000, 5000)"
      ]
     },
     "execution_count": 6,
     "metadata": {},
     "output_type": "execute_result"
    }
   ],
   "source": [
    "len(train_df), len(valid_df), len(test_df)"
   ]
  }
 ],
 "metadata": {
  "kernelspec": {
   "display_name": "Python 3",
   "language": "python",
   "name": "python3"
  },
  "language_info": {
   "codemirror_mode": {
    "name": "ipython",
    "version": 3
   },
   "file_extension": ".py",
   "mimetype": "text/x-python",
   "name": "python",
   "nbconvert_exporter": "python",
   "pygments_lexer": "ipython3",
   "version": "3.7.6"
  }
 },
 "nbformat": 4,
 "nbformat_minor": 4
}
